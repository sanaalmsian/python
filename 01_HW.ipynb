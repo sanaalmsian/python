{
 "cells": [
  {
   "cell_type": "markdown",
   "source": [
    "# 1. Classify each of the following as either a legal or illegal Python identifier:\n",
    "1. fred\n",
    "2. if\n",
    "3. 2x\n",
    "4. -4\n",
    "5. sum_total\n",
    "6. sumTotal\n",
    "7. sum-total\n",
    "8. sum total\n",
    "9. sumtotal\n",
    "10. While\n",
    "11. x2\n",
    "12. Private\n",
    "13. public\n",
    "14. $16\n",
    "15. xTwo\n",
    "16. _static\n",
    "17. _4\n",
    "18. `___`\n",
    "19. 10%\n",
    "20. a27834\n",
    "21. wilma’s"
   ],
   "metadata": {
    "collapsed": false,
    "pycharm": {
     "name": "#%% md\n"
    }
   }
  },
  {
   "cell_type": "code",
   "execution_count": 12,
   "outputs": [
    {
     "ename": "SyntaxError",
     "evalue": "invalid syntax (61467542.py, line 1)",
     "output_type": "error",
     "traceback": [
      "\u001B[1;36m  Input \u001B[1;32mIn [12]\u001B[1;36m\u001B[0m\n\u001B[1;33m    1-l 2-l 3-i 4-i 5-l 6-l 7-l 8-i 9-l 10-l 11-l 12-l 13-l 14-i 15-l 16-l 17-l 18-l 19-i 20-l 21-i\u001B[0m\n\u001B[1;37m        ^\u001B[0m\n\u001B[1;31mSyntaxError\u001B[0m\u001B[1;31m:\u001B[0m invalid syntax\n"
     ]
    }
   ],
   "source": [
    "1-l 2-l 3-i 4-i 5-l 6-l 7-l 8-i 9-l 10-l 11-l 12-l 13-l 14-i 15-l 16-l 17-l 18-l 19-i 20-l 21-i"
   ],
   "metadata": {
    "collapsed": false,
    "pycharm": {
     "name": "#%%\n"
    }
   }
  },
  {
   "cell_type": "markdown",
   "source": [
    "# 2. What is wrong with the following statement that attempts to assign the value ten to variable x?\n",
    "> 10 = x"
   ],
   "metadata": {
    "collapsed": false,
    "pycharm": {
     "name": "#%% md\n"
    }
   }
  },
  {
   "cell_type": "code",
   "execution_count": null,
   "outputs": [],
   "source": [
    "The first character of the variable must be an alphabet or underscore"
   ],
   "metadata": {
    "collapsed": false,
    "pycharm": {
     "name": "#%%\n"
    }
   }
  },
  {
   "cell_type": "markdown",
   "source": [
    "# 3. Is \"i\" a string literal or variable?"
   ],
   "metadata": {
    "collapsed": false,
    "pycharm": {
     "name": "#%% md\n"
    }
   }
  },
  {
   "cell_type": "code",
   "execution_count": null,
   "outputs": [],
   "source": [
    "string"
   ],
   "metadata": {
    "collapsed": false,
    "pycharm": {
     "name": "#%%\n"
    }
   }
  },
  {
   "cell_type": "markdown",
   "source": [
    "# 4. Indicate what each of the following Python statements would print:\n",
    "> x = 2\n",
    "1. print(\"x\")\n",
    "2. print(’x’)\n",
    "3. print(x)\n",
    "4. print(\"x + 1\")\n",
    "5. print(’x’ + 1)\n",
    "6. print(x + 1)"
   ],
   "metadata": {
    "collapsed": false,
    "pycharm": {
     "name": "#%% md\n"
    }
   }
  },
  {
   "cell_type": "code",
   "execution_count": null,
   "outputs": [],
   "source": [
    "1-x\n",
    "2-x\n",
    "3-2\n",
    "4-x+1\n",
    "5-error(str ba adad jam nmishavad)\n",
    "6-3"
   ],
   "metadata": {
    "collapsed": false,
    "pycharm": {
     "name": "#%%\n",
     "is_executing": true
    }
   }
  },
  {
   "cell_type": "markdown",
   "source": [
    "# 5. Given the following assignments:\n",
    "i1 = 2\n",
    "i2 = 5\n",
    "i3 = -3\n",
    "d1 = 2.0\n",
    "d2 = 5.0\n",
    "d3 = -0.5;\n",
    "# Evaluate each of the following Python expressions.\n",
    "1. i1 + i2\n",
    "2. i1 / i2\n",
    "3. i1 // i2\n",
    "4. i2 / i1\n",
    "5. i2 // i1\n",
    "6. i1 * i3\n",
    "7. d1 + d2\n",
    "8. d1 / d2\n",
    "9. d2 / d1\n",
    "10. d3 * d1\n",
    "11. d1 + i2\n",
    "12. i1 / d2\n",
    "13. d2 / i1\n",
    "14. i2 / d1\n",
    "15. i1/i2*d1\n",
    "16. d1*i1/i2\n",
    "17. d1/d2*i1\n",
    "18. i1*d1/d2\n",
    "19. i2/i1*d1\n",
    "20. d1*i2/i1\n",
    "21. d2/d1*i1\n",
    "22. i1*d2/d1"
   ],
   "metadata": {
    "collapsed": false,
    "pycharm": {
     "name": "#%% md\n"
    }
   }
  },
  {
   "cell_type": "code",
   "execution_count": 3,
   "outputs": [
    {
     "name": "stdout",
     "output_type": "stream",
     "text": [
      "7\n",
      "0.4\n",
      "0\n",
      "2.5\n",
      "2\n",
      "-6\n",
      "7.0\n",
      "0.4\n",
      "2.5\n",
      "-1.0\n",
      "7.0\n",
      "0.4\n",
      "2.5\n",
      "2.5\n",
      "0.8\n",
      "0.8\n",
      "0.8\n",
      "0.8\n",
      "5.0\n",
      "5.0\n",
      "5.0\n",
      "5.0\n"
     ]
    }
   ],
   "source": [
    "i1 = 2\n",
    "i2 = 5\n",
    "i3 = -3\n",
    "d1 = 2.0\n",
    "d2 = 5.0\n",
    "d3 = -0.5;\n",
    "print(i1+i2)\n",
    "print(i1 / i2)\n",
    "print(i1 // i2)\n",
    "print(i2 / i1)\n",
    "print(i2 // i1)\n",
    "print(i1 * i3)\n",
    "print(d1+d2)\n",
    "print(d1 / d2)\n",
    "print(d2 / d1)\n",
    "print(d3*d1)\n",
    "print(d1+i2)\n",
    "print(i1 / d2)\n",
    "print(d2 / i1)\n",
    "print(i2 / d1)\n",
    "print(i1/i2*d1)\n",
    "print(d1*i1/i2)\n",
    "print(d1/d2*i1)\n",
    "print(i1*d1/d2)\n",
    "print(i2/i1*d1)\n",
    "print(d1*i2/i1)\n",
    "print(d2/d1*i1)\n",
    "print(i1*d2/d1)"
   ],
   "metadata": {
    "collapsed": false,
    "pycharm": {
     "name": "#%%\n"
    }
   }
  },
  {
   "cell_type": "markdown",
   "source": [
    "# 6. Write the shortest way to express each of the following statements.\n",
    "1. x = x + 1\n",
    "2. x = x / 2\n",
    "3. x = x - 1\n",
    "4. x = x + y\n",
    "5. x = x - (y + 7)\n",
    "6. x = 2*x\n",
    "7. number_of_closed_cases = number_of_closed_cases + 2*ncc"
   ],
   "metadata": {
    "collapsed": false,
    "pycharm": {
     "name": "#%% md\n"
    }
   }
  },
  {
   "cell_type": "code",
   "execution_count": null,
   "outputs": [],
   "source": [],
   "metadata": {
    "collapsed": false,
    "pycharm": {
     "name": "#%%\n"
    }
   }
  },
  {
   "cell_type": "markdown",
   "source": [
    "# 7. Is the value -16 interpreted as True or False?"
   ],
   "metadata": {
    "collapsed": false,
    "pycharm": {
     "name": "#%% md\n"
    }
   }
  },
  {
   "cell_type": "code",
   "execution_count": null,
   "outputs": [],
   "source": [
    "True"
   ],
   "metadata": {
    "collapsed": false,
    "pycharm": {
     "name": "#%%\n"
    }
   }
  },
  {
   "cell_type": "markdown",
   "source": [
    "# 8. Given the following definitions:\n",
    "x, y, z = 3, 5, 7\n",
    "evaluate the following Boolean expressions:\n",
    "1. x == 3\n",
    "2. x < y\n",
    "3. x >= y\n",
    "4. x <= y\n",
    "5. x != y - 2\n",
    "6. x < 10\n",
    "7. x >= 0 and x < 10\n",
    "8. x < 0 and x < 10\n",
    "9. x >= 0 and x < 2\n",
    "10. x < 0 or x < 10\n",
    "11. x > 0 or x < 10\n",
    "12. x < 0 or x > 10"
   ],
   "metadata": {
    "collapsed": false,
    "pycharm": {
     "name": "#%% md\n"
    }
   }
  },
  {
   "cell_type": "code",
   "execution_count": 22,
   "outputs": [
    {
     "name": "stdout",
     "output_type": "stream",
     "text": [
      "True\n",
      "True\n",
      "False\n",
      "True\n",
      "False\n",
      "True\n",
      "True\n"
     ]
    }
   ],
   "source": [
    "x=3\n",
    "y=5\n",
    "z=7\n",
    "if(x==3):\n",
    "    print(True)\n",
    "else:\n",
    "    print(False)\n",
    "if(x<y):\n",
    "    print(True)\n",
    "else:\n",
    "    print(False)\n",
    "if(x>=y):\n",
    "    print(True)\n",
    "else:\n",
    "    print(False)\n",
    "if(x<=y):\n",
    "    print(True)\n",
    "else:\n",
    "    print(False)\n",
    "if(x!=y-2):\n",
    "    print(True)\n",
    "else:\n",
    "    print(False)\n",
    "if(x<10):\n",
    "    print(True)\n",
    "else:\n",
    "    print(False)\n",
    "if(x>=0 and x<10):\n",
    "    print(True)\n",
    "else:\n",
    "    print(False)"
   ],
   "metadata": {
    "collapsed": false,
    "pycharm": {
     "name": "#%%\n"
    }
   }
  },
  {
   "cell_type": "markdown",
   "source": [
    "# 8. Write a Python program that requests an integer value from the user.\n",
    "* If the value is between 1 and 100 inclusive, print ”OK;” otherwise, do not print anything."
   ],
   "metadata": {
    "collapsed": false,
    "pycharm": {
     "name": "#%% md\n"
    }
   }
  },
  {
   "cell_type": "code",
   "execution_count": 14,
   "outputs": [
    {
     "name": "stdout",
     "output_type": "stream",
     "text": [
      "ok\n"
     ]
    }
   ],
   "source": [
    "num=20\n",
    "if(num>1 and num<100):\n",
    "    print(\"ok\")\n",
    "else:\n",
    "    print(\" \")"
   ],
   "metadata": {
    "collapsed": false,
    "pycharm": {
     "name": "#%%\n"
    }
   }
  },
  {
   "cell_type": "markdown",
   "source": [
    "# 9. Write a Python program that requests an integer value from the user.\n",
    "* If the value is between 1 and 100 inclusive, print ”OK;” otherwise, print ”Out of range.”"
   ],
   "metadata": {
    "collapsed": false,
    "pycharm": {
     "name": "#%% md\n"
    }
   }
  },
  {
   "cell_type": "code",
   "execution_count": 1,
   "outputs": [
    {
     "name": "stdout",
     "output_type": "stream",
     "text": [
      "Out of range\n"
     ]
    }
   ],
   "source": [
    "num=125\n",
    "if(num>1 and num<100):\n",
    "    print(\"ok\")\n",
    "else:\n",
    "    print(\"Out of range\")"
   ],
   "metadata": {
    "collapsed": false,
    "pycharm": {
     "name": "#%%\n"
    }
   }
  },
  {
   "cell_type": "markdown",
   "source": [
    "# 10. Write a Python program that:\n",
    "* requests five integer values from the user.\n",
    "* It then prints the maximum and minimum values entered.\n",
    "* If the user enters the values 3, 2, 5, 0, and 1, the program would indicate that 5 is the maximum and 0 is the minimum.\n",
    "* Your program should handle ties properly; for example, if the user enters 2, 4 2, 3 and 3, the program should report 2 as the minimum and 4 as maximum."
   ],
   "metadata": {
    "collapsed": false,
    "pycharm": {
     "name": "#%% md\n"
    }
   }
  },
  {
   "cell_type": "code",
   "execution_count": 7,
   "outputs": [
    {
     "name": "stdout",
     "output_type": "stream",
     "text": [
      "1 2 3 4 5\n"
     ]
    }
   ],
   "source": [
    "Numbers=input(\"Enter five number: \")\n",
    "print(Numbers)"
   ],
   "metadata": {
    "collapsed": false,
    "pycharm": {
     "name": "#%%\n"
    }
   }
  },
  {
   "cell_type": "code",
   "execution_count": 11,
   "outputs": [
    {
     "name": "stdout",
     "output_type": "stream",
     "text": [
      "5\n",
      " \n"
     ]
    }
   ],
   "source": [
    "print(max(Numbers))"
   ],
   "metadata": {
    "collapsed": false,
    "pycharm": {
     "name": "#%%\n"
    }
   }
  },
  {
   "cell_type": "code",
   "execution_count": 15,
   "outputs": [
    {
     "name": "stdout",
     "output_type": "stream",
     "text": [
      " \n"
     ]
    }
   ],
   "source": [
    "print(min(Numbers))"
   ],
   "metadata": {
    "collapsed": false,
    "pycharm": {
     "name": "#%%\n"
    }
   }
  },
  {
   "cell_type": "code",
   "execution_count": null,
   "outputs": [],
   "source": [],
   "metadata": {
    "collapsed": false,
    "pycharm": {
     "name": "#%%\n"
    }
   }
  }
 ],
 "metadata": {
  "kernelspec": {
   "display_name": "Python 3",
   "language": "python",
   "name": "python3"
  },
  "language_info": {
   "codemirror_mode": {
    "name": "ipython",
    "version": 2
   },
   "file_extension": ".py",
   "mimetype": "text/x-python",
   "name": "python",
   "nbconvert_exporter": "python",
   "pygments_lexer": "ipython2",
   "version": "2.7.6"
  }
 },
 "nbformat": 4,
 "nbformat_minor": 0
}